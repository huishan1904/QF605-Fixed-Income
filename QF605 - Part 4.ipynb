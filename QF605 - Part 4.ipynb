{
 "cells": [
  {
   "cell_type": "markdown",
   "id": "b262aa37-22cd-4bc5-b745-4ef4dbe6d2f6",
   "metadata": {},
   "source": [
    "# QF605 | Fixed Income Securities\n",
    "## Project\n",
    "\n",
    "#### Members\n",
    "1. Jung Hyung-yun\n",
    "2. Lim Jeng\n",
    "3. Nguyen Ngo Duy Quang\n",
    "4. Shao Jiayu\n",
    "5. Sun Qiaozhen\n",
    "6. Tan Hui Shan\n",
    "7. Tan Wei Hao"
   ]
  },
  {
   "cell_type": "code",
   "execution_count": 27,
   "id": "cd79a96d-2cdf-492e-91da-4e89ccb2bcca",
   "metadata": {},
   "outputs": [],
   "source": [
    "import numpy as np\n",
    "import pandas as pd\n",
    "from scipy.stats import norm\n",
    "from scipy.integrate import quad\n",
    "import matplotlib.pylab as plt\n",
    "from math import log, sqrt, exp\n",
    "import warnings\n",
    "warnings.filterwarnings(\"ignore\")"
   ]
  },
  {
   "cell_type": "markdown",
   "id": "9eac951b-36f9-4608-b76d-a6f0fbc06dc3",
   "metadata": {},
   "source": [
    "## Problem to solve:\n",
    "\n",
    "### A decompounded option pays the following at time T = 5y:\n",
    "### <center color = black>$$\\text{CMS}  10Y^{1/p} - 0.04^{1/q}$$\n",
    "where p = 4 and q = 2. \n",
    "\n",
    "#### Question 1: Use static replication to value the PV of this payoff.\n",
    "#### Question 2: Suppose the payoff is now:$(CMS\\\\ 10y^{1/4} - 0.04^{1/2})^+$. "
   ]
  },
  {
   "cell_type": "markdown",
   "id": "bf5bcd9d-54fb-45c5-9cb3-82dd5bf67725",
   "metadata": {},
   "source": [
    "For static replication of any constant maturity swap (CMS) payoff $g(F)$, where $F$ is the swap rate, we use the following formula:\n",
    "\n",
    "  \\begin{equation*}\n",
    "    \\begin{split}\n",
    "      V_0 &= D(0,T) g(F) + h'(F)[V^{pay}(F)-V^{rec}(F)] \\\\\n",
    "      &\\;\\;\\;\\;\\;\\;\\;\\;\\;\\;+ \\int_0^F h''(K) V^{rec}(K) dK +\n",
    "      \\int_F^\\infty h''(K) V^{pay}(K) dK\n",
    "    \\end{split}\n",
    "  \\end{equation*}\n",
    "\n",
    "where\n",
    "\n",
    "  \\begin{equation*}\n",
    "    \\begin{split}\n",
    "      h(K) &= \\frac{g(K)}{\\mbox{IRR}(K)} \\\\\n",
    "      h'(K) &= \\frac{\\mbox{IRR}(K)g'(K) - g(K)\\mbox{IRR}'(K)}{\\mbox{IRR}(K)^2} \\\\\n",
    "      h''(K) &= \\frac{\\mbox{IRR}(K)g''(K)-\\mbox{IRR}''(K)g(K) -2\\cdot\\mbox{IRR}'(K)g'(K)}{\\mbox{IRR}(K)^2} \\\\\n",
    "      &\\;\\;\\;\\;\\;\\;\\;\\;\\;\\;+\n",
    "      \\frac{2\\cdot\\mbox{IRR}'(K)^2g(K)}{\\mbox{IRR}(K)^3}.\n",
    "    \\end{split}\n",
    "  \\end{equation*}\n",
    "  \n",
    "For CMS rate payoff, the payoff function can be defined simply as $g(F)=F$, and the static replication formula simplifies into:\n",
    "\n",
    "  \\begin{equation*}\n",
    "    \\begin{split}\n",
    "      D(0,T) F + \\int_0^F h''(K) V^{rec}(K) dK + \\int_F^\\infty h''(K) V^{pay}(K) dK\n",
    "    \\end{split}\n",
    "  \\end{equation*}\n",
    "\n",
    "We can implement this in Python. First we define the IRR functions."
   ]
  },
  {
   "cell_type": "markdown",
   "id": "2c3a72fb-5c7c-43ea-8fbf-834f8f6dc823",
   "metadata": {},
   "source": [
    "Let $m$ denote the payment frequenc ($m=2$ for semi-annual payment frequency), and let $N = T_N-T_n$ denote the tenor of the swap (number of years), the partial derivatives on the IRR function $\\mbox{IRR}(S)$ given by:\n",
    "\\begin{equation*}\n",
    "\\begin{split}\n",
    "\\mbox{IRR}(K)&=\\sum_{i=1}^{N\\times m}\\frac{1}{(1+\\frac{K}{m})^i}=\\frac{1}{K}\\left[1-\\frac{1}{\\left(1+\\frac{K}{m}\\right)^{N\\times m}}\\right]\\\\\n",
    "\\mbox{IRR}'(K)&=-\\frac{1}{K}\\mbox{IRR}(K)\n",
    "+\\frac{1}{m\\times K}\\frac{N\\times m}{\\left(1+\\frac{K}{m}\\right)^{N\\times m+1}} \\\\\n",
    "\\mbox{IRR}''(K)&=-\\frac{2}{K}\\mbox{IRR}'(K)\n",
    "-\\frac{1}{m^2\\times K}\\frac{N\\times m\\cdot (N\\times m+1)}{\\left(1+\\frac{K}{m}\\right)^{N\\times m+2}} \\\\\n",
    "\\end{split}\n",
    "\\end{equation*}\n",
    "\n",
    "These results will need to be generalised to handle the case for $m=2$ to be consistent with the semi-annual payment frequency swap market data provided.\n"
   ]
  },
  {
   "cell_type": "code",
   "execution_count": 31,
   "id": "48d20d51-a39b-4cc5-9567-fcecd22b52d3",
   "metadata": {},
   "outputs": [],
   "source": [
    "def IRR_0(K, m, N):\n",
    "    # implementation of IRR(K) function\n",
    "    value = 1/K * ( 1.0 - 1/(1 + K/m)**(N*m) )\n",
    "    return value\n",
    "\n",
    "def IRR_1(K, m, N):\n",
    "    # implementation of IRR'(K) function (1st derivative)\n",
    "    firstDerivative = -1/K*IRR_0(K, m, N) + 1/(K*m)*N*m/(1+K/m)**(N*m+1)\n",
    "    return firstDerivative\n",
    "\n",
    "def IRR_2(K, m, N):\n",
    "    # implementation of IRR''(K) function (2nd derivative)\n",
    "    secondDerivative = -2/K*IRR_1(K, m, N) - 1/(K*m*m)*(N*m)*(N*m+1)/(1+K/m)**(N*m+2)\n",
    "    return secondDerivative\n"
   ]
  },
  {
   "cell_type": "markdown",
   "id": "8a7f00f6-8aed-46e5-891d-fb7d7e1aaa65",
   "metadata": {},
   "source": [
    "#### Formula of g(F):\n",
    "\n",
    "For CMS rate payment, since $g(F)=F$, we have the derivatives:\n",
    "\\begin{equation*}\n",
    "\\begin{split}\n",
    "g(K) &= K^{1/4} - 0.04^{1/2} = K^{1/4} - 0.2\\\\\n",
    "g'(K) &= 1/4*K^{-3/4} \\\\\n",
    "g''(K) &= -3/16*K^{-7/4}\n",
    "\\end{split}\n",
    "\\end{equation*}"
   ]
  },
  {
   "cell_type": "code",
   "execution_count": 33,
   "id": "2c5edba6-bb1d-4daa-88ff-a59338992af5",
   "metadata": {},
   "outputs": [],
   "source": [
    "def g_0(K):\n",
    "    return K**(1/4)-0.2\n",
    "\n",
    "def g_1(K):\n",
    "    return (1/4)*K**(-3/4)\n",
    "\n",
    "def g_2(K):\n",
    "    return (-3/16)*K**(-7/4)"
   ]
  },
  {
   "cell_type": "markdown",
   "id": "820ba13a-19f9-47cc-a3d3-c0e776ae77cd",
   "metadata": {},
   "source": [
    "The function $h(K) = g(K)/IRR(K)$ now simplies into:  \n",
    "  \n",
    "  \\begin{equation*}\n",
    "    \\begin{split}\n",
    "      h(K) &= \\frac{g(K)}{\\mbox{IRR}(K)} \\\\\n",
    "      h'(K) &= \\frac{\\mbox{IRR}(K)g'(K) - g(K)\\mbox{IRR}'(K)}{\\mbox{IRR}(K)^2} \\\\\n",
    "      h''(K) &= \\frac{\\mbox{IRR}(K)g''(K)-\\mbox{IRR}''(K)g(K) -2\\cdot\\mbox{IRR}'(K)g'(K)}{\\mbox{IRR}(K)^2} \\\\\n",
    "      &\\;\\;\\;\\;\\;\\;\\;\\;\\;\\;+\n",
    "      \\frac{2\\cdot\\mbox{IRR}'(K)^2g(K)}{\\mbox{IRR}(K)^3}.\n",
    "    \\end{split}\n",
    "  \\end{equation*}\n"
   ]
  },
  {
   "cell_type": "code",
   "execution_count": 35,
   "id": "543c1575-075b-46fe-ab39-923329759946",
   "metadata": {},
   "outputs": [],
   "source": [
    "def h_0(K, m, N):\n",
    "    # implementation of h(K)\n",
    "    value = g_0(K) / IRR_0(K, m, N)\n",
    "    return value\n",
    "\n",
    "def h_1(K, m, N):\n",
    "    # implementation of h'(K) (1st derivative)\n",
    "    firstDerivative = (IRR_0(K, m, N)*g_1(K) - g_0(K)*IRR_1(K, m, N)) / IRR_0(K, m, N)**2\n",
    "    return firstDerivative\n",
    "\n",
    "def h_2(K, m, N):\n",
    "    # implementation of h''(K) (2nd derivative)\n",
    "    secondDerivative = ((IRR_0(K, m, N)*g_2(K) - IRR_2(K, m, N)*g_0(K) - 2.0*IRR_1(K, m, N)*g_1(K))/IRR_0(K, m, N)**2 \n",
    "                        + 2.0*IRR_1(K, m, N)**2*g_0(K)/IRR_0(K, m, N)**3)\n",
    "    return secondDerivative"
   ]
  },
  {
   "cell_type": "code",
   "execution_count": 36,
   "id": "bc454175-e906-451e-93c3-4ef652aec51a",
   "metadata": {},
   "outputs": [],
   "source": [
    "def Black76Call(S, K, r, sigma, T):\n",
    "    d1 = (np.log(S/K)+(sigma**2/2)*T) / (sigma*np.sqrt(T))\n",
    "    d2 = d1 - sigma*np.sqrt(T)\n",
    "    return S*norm.cdf(d1) - K*np.exp(-r*T)*norm.cdf(d2)\n",
    "def Black76Put(S, K, r, sigma, T):\n",
    "    d1 = (np.log(S/K)+(sigma**2/2)*T) / (sigma*np.sqrt(T))\n",
    "    d2 = d1 - sigma*np.sqrt(T)\n",
    "    return K*np.exp(-r*T)*norm.cdf(-d2) - S*norm.cdf(-d1)\n",
    "\n",
    "def SABR(F, K, T, alpha, beta, rho, nu):\n",
    "    X = K\n",
    "    if F == K:\n",
    "        numer1 = (((1 - beta)**2)/24)*alpha*alpha/(F**(2 - 2*beta))\n",
    "        numer2 = 0.25*rho*beta*nu*alpha/(F**(1 - beta))\n",
    "        numer3 = ((2 - 3*rho*rho)/24)*nu*nu\n",
    "        VolAtm = alpha*(1 + (numer1 + numer2 + numer3)*T)/(F**(1-beta))\n",
    "        sabrsigma = VolAtm\n",
    "    else:\n",
    "        z = (nu/alpha)*((F*X)**(0.5*(1-beta)))*np.log(F/X)\n",
    "        zhi = np.log((((1 - 2*rho*z + z*z)**0.5) + z - rho)/(1 - rho))\n",
    "        numer1 = (((1 - beta)**2)/24)*((alpha*alpha)/((F*X)**(1 - beta)))\n",
    "        numer2 = 0.25*rho*beta*nu*alpha/((F*X)**((1 - beta)/2))\n",
    "        numer3 = ((2 - 3*rho*rho)/24)*nu*nu\n",
    "        numer = alpha*(1 + (numer1 + numer2 + numer3)*T)*z\n",
    "        denom1 = ((1 - beta)**2/24)*(np.log(F/X))**2\n",
    "        denom2 = (((1 - beta)**4)/1920)*((np.log(F/X))**4)\n",
    "        denom = ((F*X)**((1 - beta)/2))*(1 + denom1 + denom2)*zhi\n",
    "        sabrsigma = numer/denom\n",
    "    return sabrsigma"
   ]
  },
  {
   "cell_type": "code",
   "execution_count": 37,
   "id": "97e39dba-fba7-4a19-8134-7bdd02dc41d7",
   "metadata": {},
   "outputs": [],
   "source": [
    "def integral_rec(x,N,m,F,disc,sigma,T):\n",
    "    h = h_2(x, m, N)\n",
    "    Vrec=Black76Put(F, x, disc, sigma, T)\n",
    "    return h*Vrec\n",
    "\n",
    "def integral_pay(x,N,m,F,disc,sigma,T): \n",
    "    h = h_2(x, m, N)\n",
    "    Vpay=Black76Call(F, x, disc, sigma, T)\n",
    "    return h*Vpay"
   ]
  },
  {
   "cell_type": "markdown",
   "id": "97c98a1b-8043-46ae-8091-761efcd11ef3",
   "metadata": {},
   "source": [
    "We will also need to implement the IRR-settled payer and receiver swaption formulae:\n",
    "\n",
    "  \\begin{equation*}\n",
    "    \\begin{split}\n",
    "      V^{pay}_{n,N}(0) &= D(0,T_n) \\cdot \\mbox{IRR}(S_{n,N}(0)) \\cdot \\mbox{Black76Call}(S_{n,N}(0),K,\\sigma_{n,N},T) \\\\\n",
    "      V^{rec}_{n,N}(0) &= D(0,T_n) \\cdot \\mbox{IRR}(S_{n,N}(0)) \\cdot \\mbox{Black76Put}(S_{n,N}(0),K,\\sigma_{n,N},T) \\\\\n",
    "    \\end{split}\n",
    "  \\end{equation*}\n",
    "\n",
    "where $S_{n,N}(0)=F$ is today's forward swap rate calculated based on the curves we bootstrapped, and $\\sigma_{n,N}$ is the SABR implied volatility calibrated to swaption market data."
   ]
  },
  {
   "cell_type": "code",
   "execution_count": 39,
   "id": "aee9248a-f15b-4418-96f6-c5a65835c2df",
   "metadata": {},
   "outputs": [],
   "source": [
    "FSR = pd.read_excel(\"Data_1_Output.xlsx\", sheet_name = \"fwdSwapRates\")\n",
    "ois = pd.read_excel(\"Data_1_Output.xlsx\", sheet_name = \"oisDiscFactors\")\n",
    "df_sigma = pd.read_csv(\"sigma_intpl.csv\")"
   ]
  },
  {
   "cell_type": "code",
   "execution_count": 40,
   "id": "8c52aab3-2d3a-450f-a5cc-9d6ee221e5b5",
   "metadata": {},
   "outputs": [],
   "source": [
    "p = 4\n",
    "q = 2\n",
    "\n",
    "F = float(FSR.loc[9, \"liborForwardSwapRate\"])\n",
    "DF = float(ois.loc[9, \"DiscountFactor\"])\n",
    "sigmasabr = df_sigma.loc[4, \"10\"]"
   ]
  },
  {
   "cell_type": "code",
   "execution_count": 41,
   "id": "f8c2e6ea-d1ab-4ebb-b435-06c7b6dd4b85",
   "metadata": {},
   "outputs": [],
   "source": [
    "Alpha = pd.read_excel('SABR_PART2.xlsx',sheet_name = 'alpha')\n",
    "Rho = pd.read_excel('SABR_PART2.xlsx',sheet_name = 'rho')\n",
    "Nu = pd.read_excel('SABR_PART2.xlsx',sheet_name = 'nu')"
   ]
  },
  {
   "cell_type": "code",
   "execution_count": 42,
   "id": "6c6253e4-562b-44cd-ab4d-8a4cade0f8ac",
   "metadata": {},
   "outputs": [],
   "source": [
    "alpha = Alpha.loc[4,10]\n",
    "rho = Rho.loc[4,10]\n",
    "nu = Nu.loc[4,10]"
   ]
  },
  {
   "cell_type": "code",
   "execution_count": 43,
   "id": "b5058679-78eb-4dfe-b8c8-bc7e53147ba4",
   "metadata": {},
   "outputs": [
    {
     "name": "stdout",
     "output_type": "stream",
     "text": [
      "Question 1 PV for the payoff is:  0.25036\n"
     ]
    }
   ],
   "source": [
    "V_rec = quad(lambda x: integral_rec(x, 10, 2, F, 0, SABR(F, x, 5, alpha, 0.9, rho, nu), 5), 0, F)\n",
    "V_pay = quad(lambda x: integral_pay(x, 10, 2, F, 0, SABR(F, x, 5, alpha, 0.9, rho, nu), 5), F, 1e3)\n",
    "PV_1 = g_0(F) * DF + np.sum(V_rec + V_pay)\n",
    "print('Question 1 PV for the payoff is: ', round(PV_1,5))"
   ]
  },
  {
   "cell_type": "markdown",
   "id": "4747fa23-263e-4aff-a7eb-cf471307f9b1",
   "metadata": {},
   "source": [
    "### CMS Caplet:\n",
    "\n",
    "\\begin{equation*}\n",
    "    \\begin{split}\n",
    "      \\ h'(L) V^{pay}(L)+ \\int_F^\\infty h''(K) V^{pay}(K) dK\n",
    "    \\end{split}\n",
    "  \\end{equation*}"
   ]
  },
  {
   "cell_type": "markdown",
   "id": "b6c24ad0-86f8-4056-a83f-0e539b5a3bef",
   "metadata": {},
   "source": [
    "where:\n",
    "\\begin{align*}\n",
    "F^{\\frac{1}{4}} &> 0.2 \\\\\n",
    "=> F &> 0.2^4 \\\\\n",
    "=> F &> 0.0016 = L\n",
    "\\end{align*}"
   ]
  },
  {
   "cell_type": "code",
   "execution_count": 46,
   "id": "da9be6fe-c970-4d4e-aefb-d87683f7c316",
   "metadata": {},
   "outputs": [
    {
     "name": "stdout",
     "output_type": "stream",
     "text": [
      "Question 2 PV for the payoff is:  0.03104\n"
     ]
    }
   ],
   "source": [
    "L = 0.0016\n",
    "term_1 = h_1(L, 2, 10) * Black76Call(F, L, 0, SABR(F, L, 5, alpha, 0.9, rho, nu),5)\n",
    "term_2 = quad(lambda x: h_2(x, 2, 10) * Black76Call(F, x, 0, SABR(F, x, 5, alpha, 0.9, rho, nu),5), L, 1e3)\n",
    "caplet = term_1 + term_2[0]\n",
    "print('Question 2 PV for the payoff is: ', round(caplet,5))"
   ]
  }
 ],
 "metadata": {
  "kernelspec": {
   "display_name": "Python [conda env:base] *",
   "language": "python",
   "name": "conda-base-py"
  },
  "language_info": {
   "codemirror_mode": {
    "name": "ipython",
    "version": 3
   },
   "file_extension": ".py",
   "mimetype": "text/x-python",
   "name": "python",
   "nbconvert_exporter": "python",
   "pygments_lexer": "ipython3",
   "version": "3.12.4"
  }
 },
 "nbformat": 4,
 "nbformat_minor": 5
}
